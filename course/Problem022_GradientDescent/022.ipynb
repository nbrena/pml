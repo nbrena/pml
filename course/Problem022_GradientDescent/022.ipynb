{
  "nbformat": 4,
  "nbformat_minor": 0,
  "metadata": {
    "kernelspec": {
      "name": "python3",
      "display_name": "Python 3.8.2 64-bit ('pml': venv)",
      "metadata": {
        "interpreter": {
          "hash": "a4c9474aacc61cf72d0f1c29f4a339e5d6b2171c287541cfd684cf058783219b"
        }
      }
    },
    "language_info": {
      "codemirror_mode": {
        "name": "ipython",
        "version": 3
      },
      "file_extension": ".py",
      "mimetype": "text/x-python",
      "name": "python",
      "nbconvert_exporter": "python",
      "pygments_lexer": "ipython3",
      "version": "3.8.2-final"
    },
    "colab": {
      "name": "Copia de 022.ipynb",
      "provenance": [],
      "include_colab_link": true
    }
  },
  "cells": [
    {
      "cell_type": "markdown",
      "metadata": {
        "id": "view-in-github",
        "colab_type": "text"
      },
      "source": [
        "<a href=\"https://colab.research.google.com/github/nbrena/pml/blob/master/course/Problem022_GradientDescent/022.ipynb\" target=\"_parent\"><img src=\"https://colab.research.google.com/assets/colab-badge.svg\" alt=\"Open In Colab\"/></a>"
      ]
    },
    {
      "cell_type": "markdown",
      "metadata": {
        "id": "Ko5YoTHZwPTJ"
      },
      "source": [
        "## Gradient Descent\n",
        "\n",
        "\n",
        "### TBD: Tale of 2 functions: First is f, the function we are trying to predict. second is J, the cost function. Whats your general observation about f and J\n",
        "\n"
      ]
    },
    {
      "cell_type": "markdown",
      "metadata": {
        "id": "WZV-OL6ewPTJ"
      },
      "source": [
        "### TBD Simply stated gradient descent means that move in the direction of negative slope in some proportion to the incline of the slope.\n",
        "\n",
        "    - Which of above 2 functions (f or J) we would do gradient descent?\n",
        "    - What is a learning rate? "
      ]
    },
    {
      "cell_type": "markdown",
      "metadata": {
        "id": "9Nhyie8LwPTJ"
      },
      "source": [
        "### TBD: Given the following cost function J\n",
        "\n",
        "$\\begin{align}J(w) = (w-3)^2\\end{align}$\n",
        "\n",
        "and our current weight is 7, given the learning rate of 0.1\n",
        "\n",
        " - What will be the length of our next stride (by what magnitude will be adjust the weight)?\n",
        "\n",
        " - What will be the new weight?"
      ]
    },
    {
      "cell_type": "code",
      "metadata": {
        "id": "pCs58pFvwPTJ"
      },
      "source": [
        ""
      ],
      "execution_count": null,
      "outputs": []
    }
  ]
}