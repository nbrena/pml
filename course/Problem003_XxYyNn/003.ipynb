{
  "nbformat": 4,
  "nbformat_minor": 0,
  "metadata": {
    "kernelspec": {
      "display_name": "Python 3",
      "language": "python",
      "name": "python3"
    },
    "language_info": {
      "codemirror_mode": {
        "name": "ipython",
        "version": 3
      },
      "file_extension": ".py",
      "mimetype": "text/x-python",
      "name": "python",
      "nbconvert_exporter": "python",
      "pygments_lexer": "ipython3",
      "version": "3.6.5"
    },
    "colab": {
      "name": "003.ipynb",
      "provenance": []
    }
  },
  "cells": [
    {
      "cell_type": "markdown",
      "metadata": {
        "id": "7NmPbDGvHeHF"
      },
      "source": [
        "# Load Boston Housing Dataset\n",
        "https://scikit-learn.org/stable/modules/generated/sklearn.datasets.load_boston.html#sklearn.datasets.load_boston"
      ]
    },
    {
      "cell_type": "code",
      "metadata": {
        "scrolled": true,
        "id": "b0ORDj3_HeHG"
      },
      "source": [
        "from sklearn.datasets import load_boston\n",
        "house_data = load_boston()"
      ],
      "execution_count": 1,
      "outputs": []
    },
    {
      "cell_type": "code",
      "metadata": {
        "id": "s8-cFAt0HeHK",
        "outputId": "c00aa93f-ec2d-463d-bee1-abebaa673cd7",
        "colab": {
          "base_uri": "https://localhost:8080/",
          "height": 34
        }
      },
      "source": [
        "# How many houses are there (N)\n",
        "N = 0 #TBD\n",
        "#DESCR', 'data', 'feature_names', 'filename', 'target']\n",
        "len(house_data.data)"
      ],
      "execution_count": 12,
      "outputs": [
        {
          "output_type": "execute_result",
          "data": {
            "text/plain": [
              "506"
            ]
          },
          "metadata": {
            "tags": []
          },
          "execution_count": 12
        }
      ]
    },
    {
      "cell_type": "code",
      "metadata": {
        "id": "biLTfFc4HeHN",
        "outputId": "1d0b9ee0-5bb9-46ea-f4b6-17b12abab940",
        "colab": {
          "base_uri": "https://localhost:8080/",
          "height": 34
        }
      },
      "source": [
        "# A house has how many attributes(or features or signals or dimensions or columns)\n",
        "n = 0 #TBD\n",
        "len(house_data.feature_names)\n",
        "\n",
        "# All attributes together make up a row (or input or x)"
      ],
      "execution_count": 13,
      "outputs": [
        {
          "output_type": "execute_result",
          "data": {
            "text/plain": [
              "13"
            ]
          },
          "metadata": {
            "tags": []
          },
          "execution_count": 13
        }
      ]
    },
    {
      "cell_type": "code",
      "metadata": {
        "id": "aBiuvNKgHeHQ",
        "outputId": "3978d64c-c960-47cf-d112-2b43e49a520f",
        "colab": {
          "base_uri": "https://localhost:8080/",
          "height": 34
        }
      },
      "source": [
        "# Whats the Median value of the first house (target or label or output y)\n",
        "house_data.target[0]"
      ],
      "execution_count": 14,
      "outputs": [
        {
          "output_type": "execute_result",
          "data": {
            "text/plain": [
              "24.0"
            ]
          },
          "metadata": {
            "tags": []
          },
          "execution_count": 14
        }
      ]
    },
    {
      "cell_type": "code",
      "metadata": {
        "id": "BIDlNgDuHeHT",
        "outputId": "458a356a-2ddf-4130-b43f-0c2950260567",
        "colab": {
          "base_uri": "https://localhost:8080/",
          "height": 34
        }
      },
      "source": [
        "# Whats the value of feature RM (average number of rooms per dwelling) for the last house\n",
        "print(house_data.data[-1,5])\n"
      ],
      "execution_count": 24,
      "outputs": [
        {
          "output_type": "stream",
          "text": [
            "6.03\n"
          ],
          "name": "stdout"
        }
      ]
    },
    {
      "cell_type": "markdown",
      "metadata": {
        "id": "LohoOW7XHeHW"
      },
      "source": [
        "#### House 8 all features\n",
        "$\n",
        "\\begin{align}\n",
        "X^{8} \n",
        "\\end{align}\n",
        "$\n"
      ]
    },
    {
      "cell_type": "code",
      "metadata": {
        "id": "ou1Yi23WHeHW",
        "outputId": "d29ba2d1-5ba0-49e6-ac47-6ad16fc9508a",
        "colab": {
          "base_uri": "https://localhost:8080/",
          "height": 68
        }
      },
      "source": [
        "print(house_data.data[8])"
      ],
      "execution_count": 28,
      "outputs": [
        {
          "output_type": "stream",
          "text": [
            "[2.1124e-01 1.2500e+01 7.8700e+00 0.0000e+00 5.2400e-01 5.6310e+00\n",
            " 1.0000e+02 6.0821e+00 5.0000e+00 3.1100e+02 1.5200e+01 3.8663e+02\n",
            " 2.9930e+01]\n"
          ],
          "name": "stdout"
        }
      ]
    },
    {
      "cell_type": "markdown",
      "metadata": {
        "id": "e1os2SwJHeHZ"
      },
      "source": [
        "#### House 8,  feature 2\n",
        "(INDUS proportion of non-retail business acres per town)\n",
        "\n",
        "$\n",
        "\\begin{align}\n",
        "X_{2}^{8}\n",
        "\\end{align}\n",
        "$\n"
      ]
    },
    {
      "cell_type": "code",
      "metadata": {
        "id": "fHpj9r-JHeHZ",
        "outputId": "3bdbbe5b-ecf8-42d0-f90d-aee3b73428da",
        "colab": {
          "base_uri": "https://localhost:8080/",
          "height": 34
        }
      },
      "source": [
        "print(house_data.data[8,2])"
      ],
      "execution_count": 58,
      "outputs": [
        {
          "output_type": "stream",
          "text": [
            "7.87\n"
          ],
          "name": "stdout"
        }
      ]
    },
    {
      "cell_type": "markdown",
      "metadata": {
        "id": "7nmJS4TAHeHd"
      },
      "source": [
        "#### All houses feature 4\n",
        "(NOX nitric oxides concentration)\n",
        "\n",
        "$\n",
        "\\begin{align}\n",
        "X_{4}\n",
        "\\end{align}\n",
        "$\n"
      ]
    },
    {
      "cell_type": "code",
      "metadata": {
        "id": "79MXw8D2HeHd",
        "outputId": "b4db5fb0-a3bc-42b0-8b3c-8eed34506a6b",
        "colab": {
          "base_uri": "https://localhost:8080/",
          "height": 884
        }
      },
      "source": [
        "print(house_data.data[:,4])"
      ],
      "execution_count": 63,
      "outputs": [
        {
          "output_type": "stream",
          "text": [
            "[0.538  0.469  0.469  0.458  0.458  0.458  0.524  0.524  0.524  0.524\n",
            " 0.524  0.524  0.524  0.538  0.538  0.538  0.538  0.538  0.538  0.538\n",
            " 0.538  0.538  0.538  0.538  0.538  0.538  0.538  0.538  0.538  0.538\n",
            " 0.538  0.538  0.538  0.538  0.538  0.499  0.499  0.499  0.499  0.428\n",
            " 0.428  0.448  0.448  0.448  0.448  0.448  0.448  0.448  0.448  0.448\n",
            " 0.439  0.439  0.439  0.439  0.41   0.403  0.41   0.411  0.453  0.453\n",
            " 0.453  0.453  0.453  0.453  0.4161 0.398  0.398  0.409  0.409  0.409\n",
            " 0.413  0.413  0.413  0.413  0.437  0.437  0.437  0.437  0.437  0.437\n",
            " 0.426  0.426  0.426  0.426  0.449  0.449  0.449  0.449  0.489  0.489\n",
            " 0.489  0.489  0.464  0.464  0.464  0.445  0.445  0.445  0.445  0.445\n",
            " 0.52   0.52   0.52   0.52   0.52   0.52   0.52   0.52   0.52   0.52\n",
            " 0.52   0.547  0.547  0.547  0.547  0.547  0.547  0.547  0.547  0.547\n",
            " 0.581  0.581  0.581  0.581  0.581  0.581  0.581  0.624  0.624  0.624\n",
            " 0.624  0.624  0.624  0.624  0.624  0.624  0.624  0.624  0.624  0.624\n",
            " 0.624  0.624  0.871  0.871  0.871  0.871  0.871  0.871  0.871  0.871\n",
            " 0.871  0.871  0.871  0.871  0.871  0.871  0.871  0.605  0.605  0.871\n",
            " 0.605  0.605  0.605  0.605  0.605  0.605  0.605  0.605  0.605  0.605\n",
            " 0.605  0.605  0.51   0.51   0.51   0.51   0.51   0.51   0.51   0.488\n",
            " 0.488  0.488  0.488  0.488  0.488  0.488  0.488  0.437  0.437  0.437\n",
            " 0.437  0.437  0.437  0.401  0.401  0.422  0.404  0.404  0.404  0.403\n",
            " 0.403  0.415  0.415  0.4161 0.4161 0.489  0.489  0.489  0.489  0.489\n",
            " 0.489  0.489  0.489  0.489  0.489  0.489  0.55   0.55   0.55   0.55\n",
            " 0.507  0.507  0.507  0.507  0.504  0.504  0.504  0.504  0.504  0.504\n",
            " 0.504  0.504  0.507  0.507  0.507  0.507  0.507  0.507  0.428  0.428\n",
            " 0.428  0.428  0.428  0.428  0.431  0.431  0.431  0.431  0.431  0.431\n",
            " 0.431  0.431  0.431  0.431  0.392  0.392  0.394  0.647  0.647  0.647\n",
            " 0.647  0.647  0.647  0.647  0.647  0.647  0.647  0.575  0.575  0.464\n",
            " 0.464  0.464  0.464  0.464  0.447  0.447  0.447  0.447  0.447  0.4429\n",
            " 0.4429 0.4429 0.4429 0.401  0.4    0.389  0.385  0.405  0.405  0.405\n",
            " 0.411  0.411  0.411  0.437  0.437  0.437  0.437  0.437  0.4    0.4\n",
            " 0.4    0.433  0.433  0.433  0.472  0.472  0.472  0.472  0.544  0.544\n",
            " 0.544  0.544  0.544  0.544  0.544  0.544  0.544  0.544  0.544  0.544\n",
            " 0.493  0.493  0.493  0.493  0.493  0.493  0.493  0.493  0.46   0.46\n",
            " 0.46   0.4379 0.4379 0.515  0.515  0.515  0.515  0.515  0.515  0.515\n",
            " 0.515  0.442  0.518  0.484  0.484  0.442  0.442  0.429  0.435  0.429\n",
            " 0.429  0.411  0.411  0.41   0.413  0.413  0.77   0.77   0.77   0.77\n",
            " 0.77   0.77   0.77   0.77   0.718  0.718  0.718  0.631  0.631  0.631\n",
            " 0.631  0.631  0.668  0.668  0.668  0.671  0.671  0.671  0.671  0.671\n",
            " 0.671  0.671  0.7    0.7    0.7    0.7    0.7    0.7    0.7    0.7\n",
            " 0.7    0.7    0.7    0.693  0.693  0.693  0.693  0.693  0.693  0.693\n",
            " 0.693  0.693  0.693  0.693  0.693  0.693  0.659  0.659  0.597  0.597\n",
            " 0.597  0.597  0.597  0.597  0.693  0.679  0.679  0.679  0.679  0.718\n",
            " 0.718  0.718  0.614  0.614  0.584  0.679  0.584  0.679  0.679  0.679\n",
            " 0.584  0.584  0.584  0.713  0.713  0.74   0.74   0.74   0.74   0.74\n",
            " 0.74   0.74   0.74   0.74   0.74   0.74   0.74   0.74   0.713  0.713\n",
            " 0.713  0.713  0.713  0.713  0.713  0.713  0.713  0.713  0.713  0.713\n",
            " 0.713  0.713  0.713  0.713  0.655  0.655  0.655  0.584  0.58   0.58\n",
            " 0.58   0.532  0.58   0.614  0.584  0.584  0.614  0.614  0.614  0.614\n",
            " 0.532  0.532  0.532  0.532  0.583  0.583  0.583  0.583  0.609  0.609\n",
            " 0.609  0.609  0.609  0.585  0.585  0.585  0.585  0.585  0.585  0.585\n",
            " 0.585  0.573  0.573  0.573  0.573  0.573 ]\n"
          ],
          "name": "stdout"
        }
      ]
    },
    {
      "cell_type": "markdown",
      "metadata": {
        "id": "JuLY08QVHeHf"
      },
      "source": [
        "#### Target value for house 4\n",
        "$\n",
        "Y^{4}\n",
        "$\n"
      ]
    },
    {
      "cell_type": "code",
      "metadata": {
        "id": "6AKixtliHeHg",
        "outputId": "abbaa802-fcee-43dd-d7a1-089da0919e2d",
        "colab": {
          "base_uri": "https://localhost:8080/",
          "height": 34
        }
      },
      "source": [
        "print(house_data.target[4])"
      ],
      "execution_count": 38,
      "outputs": [
        {
          "output_type": "stream",
          "text": [
            "36.2\n"
          ],
          "name": "stdout"
        }
      ]
    },
    {
      "cell_type": "markdown",
      "metadata": {
        "id": "G_vgV-6vHeHi"
      },
      "source": [
        "Small *x* and *y* are used to represent a *feature* and *target* of a single \n",
        "\n",
        "*   Elemento de lista\n",
        "\n",
        "*   Elemento de lista \n",
        "*   Elemento de lista\n",
        "\n",
        "\n",
        "*   Elemento de lista\n",
        "\n",
        "house\n",
        "#### Which among the following could be valid representation?\n",
        "$\n",
        "x^{4}\\:, \\: x_{2}\\:,\\:y^{4}\\:,\\:y_{2}\n",
        "$\n",
        "\n"
      ]
    },
    {
      "cell_type": "code",
      "metadata": {
        "id": "IkHHKsMpHeHj"
      },
      "source": [
        "# x2"
      ],
      "execution_count": null,
      "outputs": []
    }
  ]
}