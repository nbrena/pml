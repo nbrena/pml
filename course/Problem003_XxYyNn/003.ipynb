{
  "nbformat": 4,
  "nbformat_minor": 0,
  "metadata": {
    "kernelspec": {
      "display_name": "Python 3",
      "language": "python",
      "name": "python3"
    },
    "language_info": {
      "codemirror_mode": {
        "name": "ipython",
        "version": 3
      },
      "file_extension": ".py",
      "mimetype": "text/x-python",
      "name": "python",
      "nbconvert_exporter": "python",
      "pygments_lexer": "ipython3",
      "version": "3.6.5"
    },
    "colab": {
      "name": "003.ipynb",
      "provenance": []
    }
  },
  "cells": [
    {
      "cell_type": "markdown",
      "metadata": {
        "id": "7NmPbDGvHeHF"
      },
      "source": [
        "# Load Boston Housing Dataset\n",
        "https://scikit-learn.org/stable/modules/generated/sklearn.datasets.load_boston.html#sklearn.datasets.load_boston"
      ]
    },
    {
      "cell_type": "code",
      "metadata": {
        "scrolled": true,
        "id": "b0ORDj3_HeHG"
      },
      "source": [
        "from sklearn.datasets import load_boston\n",
        "house_data = load_boston()"
      ],
      "execution_count": 1,
      "outputs": []
    },
    {
      "cell_type": "code",
      "metadata": {
        "id": "s8-cFAt0HeHK",
        "outputId": "c00aa93f-ec2d-463d-bee1-abebaa673cd7",
        "colab": {
          "base_uri": "https://localhost:8080/",
          "height": 34
        }
      },
      "source": [
        "# How many houses are there (N)\n",
        "N = 0 #TBD\n",
        "#DESCR', 'data', 'feature_names', 'filename', 'target']\n",
        "len(house_data.data)"
      ],
      "execution_count": 12,
      "outputs": [
        {
          "output_type": "execute_result",
          "data": {
            "text/plain": [
              "506"
            ]
          },
          "metadata": {
            "tags": []
          },
          "execution_count": 12
        }
      ]
    },
    {
      "cell_type": "code",
      "metadata": {
        "id": "biLTfFc4HeHN",
        "outputId": "1d0b9ee0-5bb9-46ea-f4b6-17b12abab940",
        "colab": {
          "base_uri": "https://localhost:8080/",
          "height": 34
        }
      },
      "source": [
        "# A house has how many attributes(or features or signals or dimensions or columns)\n",
        "n = 0 #TBD\n",
        "len(house_data.feature_names)\n",
        "\n",
        "# All attributes together make up a row (or input or x)"
      ],
      "execution_count": 13,
      "outputs": [
        {
          "output_type": "execute_result",
          "data": {
            "text/plain": [
              "13"
            ]
          },
          "metadata": {
            "tags": []
          },
          "execution_count": 13
        }
      ]
    },
    {
      "cell_type": "code",
      "metadata": {
        "id": "aBiuvNKgHeHQ",
        "outputId": "3978d64c-c960-47cf-d112-2b43e49a520f",
        "colab": {
          "base_uri": "https://localhost:8080/",
          "height": 34
        }
      },
      "source": [
        "# Whats the Median value of the first house (target or label or output y)\n",
        "house_data.target[0]"
      ],
      "execution_count": 14,
      "outputs": [
        {
          "output_type": "execute_result",
          "data": {
            "text/plain": [
              "24.0"
            ]
          },
          "metadata": {
            "tags": []
          },
          "execution_count": 14
        }
      ]
    },
    {
      "cell_type": "code",
      "metadata": {
        "id": "BIDlNgDuHeHT",
        "outputId": "458a356a-2ddf-4130-b43f-0c2950260567",
        "colab": {
          "base_uri": "https://localhost:8080/",
          "height": 34
        }
      },
      "source": [
        "# Whats the value of feature RM (average number of rooms per dwelling) for the last house\n",
        "print(house_data.data[-1,5])\n"
      ],
      "execution_count": 24,
      "outputs": [
        {
          "output_type": "stream",
          "text": [
            "6.03\n"
          ],
          "name": "stdout"
        }
      ]
    },
    {
      "cell_type": "markdown",
      "metadata": {
        "id": "LohoOW7XHeHW"
      },
      "source": [
        "#### House 8 all features\n",
        "$\n",
        "\\begin{align}\n",
        "X^{8} \n",
        "\\end{align}\n",
        "$\n"
      ]
    },
    {
      "cell_type": "code",
      "metadata": {
        "id": "ou1Yi23WHeHW",
        "outputId": "d29ba2d1-5ba0-49e6-ac47-6ad16fc9508a",
        "colab": {
          "base_uri": "https://localhost:8080/",
          "height": 68
        }
      },
      "source": [
        "print(house_data.data[8])"
      ],
      "execution_count": 28,
      "outputs": [
        {
          "output_type": "stream",
          "text": [
            "[2.1124e-01 1.2500e+01 7.8700e+00 0.0000e+00 5.2400e-01 5.6310e+00\n",
            " 1.0000e+02 6.0821e+00 5.0000e+00 3.1100e+02 1.5200e+01 3.8663e+02\n",
            " 2.9930e+01]\n"
          ],
          "name": "stdout"
        }
      ]
    },
    {
      "cell_type": "markdown",
      "metadata": {
        "id": "e1os2SwJHeHZ"
      },
      "source": [
        "#### House 8,  feature 2\n",
        "(INDUS proportion of non-retail business acres per town)\n",
        "\n",
        "$\n",
        "\\begin{align}\n",
        "X_{2}^{8}\n",
        "\\end{align}\n",
        "$\n"
      ]
    },
    {
      "cell_type": "code",
      "metadata": {
        "id": "fHpj9r-JHeHZ",
        "outputId": "31233a14-29bf-4f48-ad31-21712064df91",
        "colab": {
          "base_uri": "https://localhost:8080/",
          "height": 136
        }
      },
      "source": [
        "print(house_data.data[house_data.])"
      ],
      "execution_count": 32,
      "outputs": [
        {
          "output_type": "stream",
          "text": [
            "[[6.3200e-03 1.8000e+01 2.3100e+00 ... 1.5300e+01 3.9690e+02 4.9800e+00]\n",
            " [2.7310e-02 0.0000e+00 7.0700e+00 ... 1.7800e+01 3.9690e+02 9.1400e+00]\n",
            " [2.7290e-02 0.0000e+00 7.0700e+00 ... 1.7800e+01 3.9283e+02 4.0300e+00]\n",
            " ...\n",
            " [6.0760e-02 0.0000e+00 1.1930e+01 ... 2.1000e+01 3.9690e+02 5.6400e+00]\n",
            " [1.0959e-01 0.0000e+00 1.1930e+01 ... 2.1000e+01 3.9345e+02 6.4800e+00]\n",
            " [4.7410e-02 0.0000e+00 1.1930e+01 ... 2.1000e+01 3.9690e+02 7.8800e+00]]\n"
          ],
          "name": "stdout"
        }
      ]
    },
    {
      "cell_type": "markdown",
      "metadata": {
        "id": "7nmJS4TAHeHd"
      },
      "source": [
        "#### All houses feature 4\n",
        "(NOX nitric oxides concentration)\n",
        "\n",
        "$\n",
        "\\begin{align}\n",
        "X_{4}\n",
        "\\end{align}\n",
        "$\n"
      ]
    },
    {
      "cell_type": "code",
      "metadata": {
        "id": "79MXw8D2HeHd",
        "outputId": "7c8f8745-d0fc-4a4b-fd83-230fa66757ac",
        "colab": {
          "base_uri": "https://localhost:8080/",
          "height": 34
        }
      },
      "source": [
        "type(house_data.data[4])"
      ],
      "execution_count": 57,
      "outputs": [
        {
          "output_type": "execute_result",
          "data": {
            "text/plain": [
              "numpy.ndarray"
            ]
          },
          "metadata": {
            "tags": []
          },
          "execution_count": 57
        }
      ]
    },
    {
      "cell_type": "markdown",
      "metadata": {
        "id": "JuLY08QVHeHf"
      },
      "source": [
        "#### Target value for house 4\n",
        "$\n",
        "Y^{4}\n",
        "$\n"
      ]
    },
    {
      "cell_type": "code",
      "metadata": {
        "id": "6AKixtliHeHg",
        "outputId": "abbaa802-fcee-43dd-d7a1-089da0919e2d",
        "colab": {
          "base_uri": "https://localhost:8080/",
          "height": 34
        }
      },
      "source": [
        "print(house_data.target[4])"
      ],
      "execution_count": 38,
      "outputs": [
        {
          "output_type": "stream",
          "text": [
            "36.2\n"
          ],
          "name": "stdout"
        }
      ]
    },
    {
      "cell_type": "markdown",
      "metadata": {
        "id": "G_vgV-6vHeHi"
      },
      "source": [
        "Small *x* and *y* are used to represent a *feature* and *target* of a single \n",
        "\n",
        "*   Elemento de lista\n",
        "\n",
        "*   Elemento de lista \n",
        "*   Elemento de lista\n",
        "\n",
        "\n",
        "*   Elemento de lista\n",
        "\n",
        "house\n",
        "#### Which among the following could be valid representation?\n",
        "$\n",
        "x^{4}\\:, \\: x_{2}\\:,\\:y^{4}\\:,\\:y_{2}\n",
        "$\n",
        "\n"
      ]
    },
    {
      "cell_type": "code",
      "metadata": {
        "id": "IkHHKsMpHeHj"
      },
      "source": [
        ""
      ],
      "execution_count": null,
      "outputs": []
    }
  ]
}