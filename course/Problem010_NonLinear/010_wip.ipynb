{
  "nbformat": 4,
  "nbformat_minor": 0,
  "metadata": {
    "kernelspec": {
      "display_name": "Python 3",
      "language": "python",
      "name": "python3"
    },
    "language_info": {
      "codemirror_mode": {
        "name": "ipython",
        "version": 3
      },
      "file_extension": ".py",
      "mimetype": "text/x-python",
      "name": "python",
      "nbconvert_exporter": "python",
      "pygments_lexer": "ipython3",
      "version": "3.8.2-final"
    },
    "colab": {
      "name": "Copia de 010.ipynb",
      "provenance": [],
      "include_colab_link": true
    }
  },
  "cells": [
    {
      "cell_type": "markdown",
      "metadata": {
        "id": "view-in-github",
        "colab_type": "text"
      },
      "source": [
        "<a href=\"https://colab.research.google.com/github/nbrena/pml/blob/master/course/Problem010_NonLinear/010_wip.ipynb\" target=\"_parent\"><img src=\"https://colab.research.google.com/assets/colab-badge.svg\" alt=\"Open In Colab\"/></a>"
      ]
    },
    {
      "cell_type": "markdown",
      "metadata": {
        "scrolled": true,
        "id": "GKI8rZJ1Uu9R"
      },
      "source": [
        "## Non Linear functions\n",
        "$\n",
        "sigmoid(x)={\\frac {1}{1+e^{-x}}}\n",
        "$\n",
        "\n",
        "$\n",
        "tanh(x)={\\frac {e^{x} - e^{-x}}{e^{x}+e^{-x}}}\n",
        "$\n",
        "\n",
        "$\n",
        "ReLU(x) = \\left\\{\n",
        "        \\begin{array}{lll}\n",
        "            0 & for & x \\leq 0  \\\\\n",
        "            x & for & x > 0\n",
        "        \\end{array}\n",
        "    \\right.\n",
        "$\n",
        "\n"
      ]
    },
    {
      "cell_type": "code",
      "metadata": {
        "id": "8wOFQkBSUu9S",
        "outputId": "58856b0e-44ac-44de-9366-4e847c85dcd2",
        "colab": {
          "base_uri": "https://localhost:8080/",
          "height": 265
        }
      },
      "source": [
        "#TBD implement following non-linear functions\n",
        "\n",
        "def sigmoid(x):\n",
        "  return 1/(1+np.exp(-x))\n",
        "\n",
        "def tanh(x):\n",
        "    pass\n",
        "\n",
        "def relu(x):\n",
        "    pass\n",
        "\n",
        "#added\n",
        "import matplotlib.pyplot as plt\n",
        "import numpy as np\n",
        "def draw(f):\n",
        "  fig = plt.figure()\n",
        "  fig.add_subplot(1,1,1)\n",
        "  X = np.linspace(-50,50)\n",
        "  Y = f(X)\n",
        "  plt.plot(X, Y)\n",
        "\n",
        "draw(sigmoid)"
      ],
      "execution_count": 5,
      "outputs": [
        {
          "output_type": "display_data",
          "data": {
            "image/png": "[encoded data removed]",
            "text/plain": [
              "<Figure size 432x288 with 1 Axes>"
            ]
          },
          "metadata": {
            "tags": [],
            "needs_background": "light"
          }
        }
      ]
    },
    {
      "cell_type": "code",
      "metadata": {
        "id": "jORSJpzWUu9V"
      },
      "source": [
        "#TBD plot above non-linear functions"
      ],
      "execution_count": null,
      "outputs": []
    }
  ]
}