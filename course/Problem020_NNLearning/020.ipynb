{
  "nbformat": 4,
  "nbformat_minor": 0,
  "metadata": {
    "kernelspec": {
      "display_name": "Python 3",
      "language": "python",
      "name": "python3"
    },
    "language_info": {
      "codemirror_mode": {
        "name": "ipython",
        "version": 3
      },
      "file_extension": ".py",
      "mimetype": "text/x-python",
      "name": "python",
      "nbconvert_exporter": "python",
      "pygments_lexer": "ipython3",
      "version": "3.6.5"
    },
    "colab": {
      "name": "Copia de 020.ipynb",
      "provenance": [],
      "include_colab_link": true
    }
  },
  "cells": [
    {
      "cell_type": "markdown",
      "metadata": {
        "id": "view-in-github",
        "colab_type": "text"
      },
      "source": [
        "<a href=\"https://colab.research.google.com/github/nbrena/pml/blob/master/course/Problem020_NNLearning/020.ipynb\" target=\"_parent\"><img src=\"https://colab.research.google.com/assets/colab-badge.svg\" alt=\"Open In Colab\"/></a>"
      ]
    },
    {
      "cell_type": "markdown",
      "metadata": {
        "id": "3qaNqRSbv9Jd"
      },
      "source": [
        "# 5 Components of Neural Network Learning (Training)\n",
        "\n",
        "1. Training Loop\n",
        "2. Forward\n",
        "3. Cost\n",
        "4. Backward\n",
        "5. Adjust Weights\n",
        "\n",
        "<img src=\"https://github.com/rawata/pml/blob/master/img/nn_training_loop.png?raw=1\" alt=\"drawing\" width=\"400\"/>\n"
      ]
    },
    {
      "cell_type": "markdown",
      "metadata": {
        "id": "W4_j1gZuv9Jd"
      },
      "source": [
        "### 1. Training Loop\n",
        "### Epochs and Batch Size\n",
        "\n",
        "### TBD: We are training on a dataset of 506 houses, with batch size of 10 and for 20 epochs, How many times weight update will happen?"
      ]
    },
    {
      "cell_type": "markdown",
      "metadata": {
        "id": "Ih_oK5trv9Jd"
      },
      "source": [
        "## 2. Forward\n",
        "###  ...=>  weighted_sum activation weighted_sum activation ...=>"
      ]
    },
    {
      "cell_type": "markdown",
      "metadata": {
        "id": "Tl3HEGUEv9Jd"
      },
      "source": [
        "## 3. Cost\n",
        "\n",
        "- Mean Squared Error for regression problems\n",
        "\n",
        "$ J = \\frac{1}{2N} \\sum \\limits_{i = 0}^{N} (y - \\hat{y})^2$\n",
        "\n",
        "\n",
        "- Categorical Cross Entropy Error for classification problems\n",
        "\n",
        "$ \n",
        "J = - \\frac{1}{N} \\sum\\limits_{i = 0}^{N} \\large{(} \\small y^{(i)}\\log\\left(\\hat{y}^{(i)}\\right) + (1-y^{(i)})\\log\\left(1- \\hat{y}^{(i)}\\right) \\large{)} \\small\n",
        "$\n"
      ]
    },
    {
      "cell_type": "markdown",
      "metadata": {
        "id": "KUdnCiKmv9Jd"
      },
      "source": [
        "# 4. Backward\n",
        "\n",
        "<img src=\"https://github.com/rawata/pml/blob/master/img/nn_backward.png?raw=1\" alt=\"drawing\" width=\"400\"/>\n"
      ]
    },
    {
      "cell_type": "markdown",
      "metadata": {
        "id": "XnmEZYW4v9Jd"
      },
      "source": [
        "# 5. Adjust Weights"
      ]
    },
    {
      "cell_type": "code",
      "metadata": {
        "id": "McM6hX5ov9Jd"
      },
      "source": [
        ""
      ],
      "execution_count": null,
      "outputs": []
    }
  ]
}