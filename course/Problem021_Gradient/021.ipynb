{
  "nbformat": 4,
  "nbformat_minor": 0,
  "metadata": {
    "kernelspec": {
      "display_name": "Python 3",
      "language": "python",
      "name": "python3"
    },
    "language_info": {
      "codemirror_mode": {
        "name": "ipython",
        "version": 3
      },
      "file_extension": ".py",
      "mimetype": "text/x-python",
      "name": "python",
      "nbconvert_exporter": "python",
      "pygments_lexer": "ipython3",
      "version": "3.8.2-final"
    },
    "colab": {
      "name": "Copia de 021.ipynb",
      "provenance": [],
      "include_colab_link": true
    }
  },
  "cells": [
    {
      "cell_type": "markdown",
      "metadata": {
        "id": "view-in-github",
        "colab_type": "text"
      },
      "source": [
        "<a href=\"https://colab.research.google.com/github/nbrena/pml/blob/master/course/Problem021_Gradient/021.ipynb\" target=\"_parent\"><img src=\"https://colab.research.google.com/assets/colab-badge.svg\" alt=\"Open In Colab\"/></a>"
      ]
    },
    {
      "cell_type": "markdown",
      "metadata": {
        "id": "Y8tNs2DMwFb1"
      },
      "source": [
        "## Gradient or Slope or Rate of Change or Derivative\n",
        "### $\\begin{align} y' \\text{ or } f'(x) \\text{ or }  \\frac{dy}{dx} \\text{ or } \\frac{d}{dx} f(x) \\end{align}$"
      ]
    },
    {
      "cell_type": "markdown",
      "metadata": {
        "id": "AdwWAzzuwFb2"
      },
      "source": [
        "## Derivative from first principles\n",
        "\n",
        "**TBD: ** Compute derivative of following functions from first principles\n",
        "\n",
        "$\\begin{align}y = 5x\\end{align}$\n",
        "\n",
        "$\\begin{align}y = x^2\\end{align}$"
      ]
    },
    {
      "cell_type": "markdown",
      "metadata": {
        "id": "6e6wzF0VwFb2"
      },
      "source": [
        "## Simple Derivative Problems\n",
        "** TBD**: Find derivatives for following functions\n",
        "\n",
        "$\\begin{align}y = \\sin(x)\\end{align}$\n",
        "\n",
        "$\\begin{align}y = x + 2\\end{align}$\n",
        "\n",
        "$\\begin{align}y = 5\\sin(x)\\end{align}$\n",
        "\n",
        "$\\begin{align}y = 3x \\end{align}$\n",
        "\n",
        "$\\begin{align}y = 5\\sin(x) + x^4 \\end{align}$\n",
        "\n",
        "$\\begin{align}y = 5x^4\\sin(x) \\end{align}$\n",
        "\n",
        "$\\begin{align}y = 2e^x\\log(x) \\end{align}$\n"
      ]
    },
    {
      "cell_type": "code",
      "metadata": {
        "id": "Z0fbgxeAwFb2"
      },
      "source": [
        ""
      ],
      "execution_count": null,
      "outputs": []
    }
  ]
}