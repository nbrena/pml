{
  "nbformat": 4,
  "nbformat_minor": 0,
  "metadata": {
    "kernelspec": {
      "display_name": "Python 3",
      "language": "python",
      "name": "python3"
    },
    "language_info": {
      "codemirror_mode": {
        "name": "ipython",
        "version": 3
      },
      "file_extension": ".py",
      "mimetype": "text/x-python",
      "name": "python",
      "nbconvert_exporter": "python",
      "pygments_lexer": "ipython3",
      "version": "3.8.2-final"
    },
    "colab": {
      "name": "Copia de 016.ipynb",
      "provenance": [],
      "include_colab_link": true
    }
  },
  "cells": [
    {
      "cell_type": "markdown",
      "metadata": {
        "id": "view-in-github",
        "colab_type": "text"
      },
      "source": [
        "<a href=\"https://colab.research.google.com/github/nbrena/pml/blob/master/course/Problem016_NN/016.ipynb\" target=\"_parent\"><img src=\"https://colab.research.google.com/assets/colab-badge.svg\" alt=\"Open In Colab\"/></a>"
      ]
    },
    {
      "cell_type": "markdown",
      "metadata": {
        "id": "cLVaOpvmu98a"
      },
      "source": [
        "## Neural Network\n",
        "\n",
        "<img src=\"https://github.com/rawata/pml/blob/master/img/nn016.png?raw=1\" width=\"900\">\n",
        "\n",
        "## TBD: For the given neural network above: \n",
        "* How many layers are there in total?\n",
        "* How many hidden layers?\n",
        "* How many weights are there in first hidden layer?\n",
        "* How many weights are there in total?\n",
        "* How many activations are produced from first hidden layer for single input sample?\n"
      ]
    }
  ]
}