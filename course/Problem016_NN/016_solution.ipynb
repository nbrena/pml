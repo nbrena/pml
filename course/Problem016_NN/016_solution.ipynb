{
  "nbformat": 4,
  "nbformat_minor": 0,
  "metadata": {
    "kernelspec": {
      "display_name": "Python 3",
      "language": "python",
      "name": "python3"
    },
    "language_info": {
      "codemirror_mode": {
        "name": "ipython",
        "version": 3
      },
      "file_extension": ".py",
      "mimetype": "text/x-python",
      "name": "python",
      "nbconvert_exporter": "python",
      "pygments_lexer": "ipython3",
      "version": "3.8.2-final"
    },
    "colab": {
      "name": "Copia de 016_solution.ipynb",
      "provenance": [],
      "include_colab_link": true
    }
  },
  "cells": [
    {
      "cell_type": "markdown",
      "metadata": {
        "id": "view-in-github",
        "colab_type": "text"
      },
      "source": [
        "<a href=\"https://colab.research.google.com/github/nbrena/pml/blob/master/course/Problem016_NN/016_solution.ipynb\" target=\"_parent\"><img src=\"https://colab.research.google.com/assets/colab-badge.svg\" alt=\"Open In Colab\"/></a>"
      ]
    },
    {
      "cell_type": "markdown",
      "metadata": {
        "id": "d8MHtSoMvMEv"
      },
      "source": [
        "## Neural Network\n",
        "\n",
        "<img src=\"https://github.com/rawata/pml/blob/master/img/nn016.png?raw=1\" width=\"900\">\n",
        "\n",
        "## TBD: For the given neural network above: \n",
        "* How many layers are there in total?\n",
        "* How many hidden layers?\n",
        "* How many weights are there in first hidden layer?\n",
        "* How many weights are there in total?\n",
        "* How many activations are produced from first hidden layer for single input sample?\n"
      ]
    },
    {
      "cell_type": "code",
      "metadata": {
        "id": "pYznTZbpvMEv"
      },
      "source": [
        "#Solution\n",
        "# Number of layers = 4\n",
        "# Hidden layers = 2, L1 and L2\n",
        "# First hidden layer: 6 weights in total, 3 Neurons, 2 weights per neuron\n",
        "# Total number of weights = 6 (L1) + 6 (L2) + 2 (L3) => 14\n",
        "# Number of Activations from first input layer = 3 (1 per neuron)"
      ],
      "execution_count": null,
      "outputs": []
    }
  ]
}