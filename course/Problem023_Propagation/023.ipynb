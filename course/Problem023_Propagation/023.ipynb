{
  "nbformat": 4,
  "nbformat_minor": 0,
  "metadata": {
    "kernelspec": {
      "display_name": "Python 3",
      "language": "python",
      "name": "python3"
    },
    "language_info": {
      "codemirror_mode": {
        "name": "ipython",
        "version": 3
      },
      "file_extension": ".py",
      "mimetype": "text/x-python",
      "name": "python",
      "nbconvert_exporter": "python",
      "pygments_lexer": "ipython3",
      "version": "3.6.5"
    },
    "colab": {
      "name": "Copia de 023.ipynb",
      "provenance": [],
      "include_colab_link": true
    }
  },
  "cells": [
    {
      "cell_type": "markdown",
      "metadata": {
        "id": "view-in-github",
        "colab_type": "text"
      },
      "source": [
        "<a href=\"https://colab.research.google.com/github/nbrena/pml/blob/master/course/Problem023_Propagation/023.ipynb\" target=\"_parent\"><img src=\"https://colab.research.google.com/assets/colab-badge.svg\" alt=\"Open In Colab\"/></a>"
      ]
    },
    {
      "cell_type": "markdown",
      "metadata": {
        "id": "b0PeU2jTwY3y"
      },
      "source": [
        "## Function composition\n",
        "Break down following functions into their composing functions\n",
        "\n",
        "1. $y = \\log(x^2)$\n",
        "\n",
        "2. $y = \\sin^2(x)$\n",
        "\n",
        "3. $y = \\sin(x^2)$\n",
        "\n",
        "4. $y = e^{5x^2}$\n",
        "\n",
        "5. $y = \\frac{1}{1 + e^{-10x + 3}}$\n",
        "\n",
        "For e.g \n",
        "\n",
        "$y = \\log(x^2)$ \n",
        "\n",
        "is composed of \n",
        "$g(x) = \\log(x)$\n",
        "and $f(x)= x^2$\n",
        "i.e $ y = g(f(x)) $\n",
        "\n"
      ]
    },
    {
      "cell_type": "markdown",
      "metadata": {
        "id": "JHTHo0XHwY3y"
      },
      "source": [
        "## Derivative of composite functions\n",
        "\n",
        "Find derivatives for following functions using chain rule\n",
        "\n",
        "1. $y = \\log(x^2)$\n",
        "\n",
        "2. $y = \\sin^2(x)$\n",
        "\n",
        "3. $y = \\sin(x^2)$\n",
        "\n",
        "4. $y = e^{5x^2}$\n",
        "\n",
        "5. $y = \\frac{1}{1 + e^{-10x + 3}}$\n",
        "\n",
        "for e.g\n",
        "if  $ h(x) = g(f(x)) $\n",
        "then $ h'(x) = g'(f(x))f'(x) $\n",
        "\n",
        "1. $h(x) = \\log(x^2)$\n",
        "$h'(x) = \\frac{1}{x^2}  2x $ $ = \\frac{2}{x}$ "
      ]
    },
    {
      "cell_type": "code",
      "metadata": {
        "id": "AFgWZxU0wY3y"
      },
      "source": [
        ""
      ],
      "execution_count": null,
      "outputs": []
    },
    {
      "cell_type": "code",
      "metadata": {
        "id": "BsMJQKEewY3z"
      },
      "source": [
        ""
      ],
      "execution_count": null,
      "outputs": []
    }
  ]
}