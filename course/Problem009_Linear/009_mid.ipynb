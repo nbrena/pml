{
  "nbformat": 4,
  "nbformat_minor": 0,
  "metadata": {
    "kernelspec": {
      "display_name": "Python 3",
      "language": "python",
      "name": "python3"
    },
    "language_info": {
      "codemirror_mode": {
        "name": "ipython",
        "version": 3
      },
      "file_extension": ".py",
      "mimetype": "text/x-python",
      "name": "python",
      "nbconvert_exporter": "python",
      "pygments_lexer": "ipython3",
      "version": "3.8.2-final"
    },
    "colab": {
      "name": "Copia de 009.ipynb",
      "provenance": [],
      "include_colab_link": true
    }
  },
  "cells": [
    {
      "cell_type": "markdown",
      "metadata": {
        "id": "view-in-github",
        "colab_type": "text"
      },
      "source": [
        "<a href=\"https://colab.research.google.com/github/nbrena/pml/blob/master/course/Problem009_Linear/009_mid.ipynb\" target=\"_parent\"><img src=\"https://colab.research.google.com/assets/colab-badge.svg\" alt=\"Open In Colab\"/></a>"
      ]
    },
    {
      "cell_type": "markdown",
      "metadata": {
        "id": "xbejch9MNBc7"
      },
      "source": [
        "## What does linear model do\n"
      ]
    },
    {
      "cell_type": "markdown",
      "metadata": {
        "id": "UPt-7TEiNBc8"
      },
      "source": [
        "## 1-dimensional input (feature)"
      ]
    },
    {
      "cell_type": "code",
      "metadata": {
        "scrolled": true,
        "id": "r-aQ6r2zNBc9"
      },
      "source": [
        "import numpy as np\n",
        "from sklearn import linear_model\n",
        "X_train = np.array([[1],[2],[3],[4]])\n",
        "Y_train = np.array([1,2,3,4])\n",
        "\n",
        "#TBD fit linear model and predict for x=7\n"
      ],
      "execution_count": null,
      "outputs": []
    },
    {
      "cell_type": "code",
      "metadata": {
        "id": "tK0h1BTBNBdA"
      },
      "source": [
        "X_train = np.array([[1],[2],[3],[4]])\n",
        "Y_train = np.array([3,4,5,6])\n",
        "\n",
        "#TBD fit linear model and predict for x=7"
      ],
      "execution_count": null,
      "outputs": []
    },
    {
      "cell_type": "code",
      "metadata": {
        "id": "Bp5ljodXNBdC"
      },
      "source": [
        "X_train = np.array([[0],[0.1],[2],[2.1],[4],[4.1]])\n",
        "Y_train = np.array([0,2,1,3,2,4])\n",
        "\n",
        "#TBD fit linear model and predict for x=4\n"
      ],
      "execution_count": null,
      "outputs": []
    },
    {
      "cell_type": "code",
      "metadata": {
        "id": "9QII-RRcNBdF"
      },
      "source": [
        "#TBD Plot above 3 models"
      ],
      "execution_count": null,
      "outputs": []
    },
    {
      "cell_type": "markdown",
      "metadata": {
        "id": "OJ5WAcdRNBdH"
      },
      "source": [
        "## 2 dimensional input (features)"
      ]
    },
    {
      "cell_type": "code",
      "metadata": {
        "id": "K94pUkWNNBdI"
      },
      "source": [
        "from random import random, seed\n",
        "\n",
        "n = 50\n",
        "seed(1)                                     \n",
        "X_train = [[random(), random()] for i in range(n)]              \n",
        "Y_train = [random() for i in range(n)]\n",
        "\n",
        "#TBD fit linear model and predict for x=(7,8)"
      ],
      "execution_count": null,
      "outputs": []
    },
    {
      "cell_type": "code",
      "metadata": {
        "id": "WiiXAVuVNBdK"
      },
      "source": [
        "#Plot above model"
      ],
      "execution_count": null,
      "outputs": []
    },
    {
      "cell_type": "markdown",
      "metadata": {
        "id": "8pykSIlxNBdN"
      },
      "source": [
        "## 13 dimensional input (features)"
      ]
    },
    {
      "cell_type": "code",
      "metadata": {
        "id": "GjPMnEyTNBdN"
      },
      "source": [
        "#TBD Load boston dataset\n",
        "from sklearn.datasets import load_boston\n",
        "house_data = load_boston()\n",
        "X = house_data.data\n",
        "Y = house_data.target"
      ],
      "execution_count": 5,
      "outputs": []
    },
    {
      "cell_type": "code",
      "metadata": {
        "id": "0WrXTEQPNBdQ"
      },
      "source": [
        "#TBD Split into Train and Test dataset. random 90% 10%\n",
        "X_train, X_test, Y_train, Y_test = train_test_split(X,Y,test_size=0.1, random_state=101)\n",
        "print(X_train)\n",
        "print(X_test)\n",
        "\n",
        "\n"
      ],
      "execution_count": null,
      "outputs": []
    },
    {
      "cell_type": "code",
      "metadata": {
        "id": "Fe3CVqDGNBdS",
        "outputId": "7044a3d5-fefb-44db-b725-7c7ebfe3ff4a",
        "colab": {
          "base_uri": "https://localhost:8080/"
        }
      },
      "source": [
        "#TBD Fit linear model on Training data\n",
        "from sklearn import linear_model\n",
        "import numpy as np\n",
        "model = linear_model.LinearRegression()\n",
        "reg = model.fit(X_train, Y_train)\n",
        "print(reg.coef_)\n",
        "\n",
        "#X_train = [for i in range(n)]              \n",
        "#Y_train = [for i in range(n2)]"
      ],
      "execution_count": 11,
      "outputs": [
        {
          "output_type": "stream",
          "text": [
            "[-1.13476349e-01  4.64006242e-02  1.95871074e-02  1.96846927e+00\n",
            " -1.78004958e+01  3.51910410e+00  2.48736169e-03 -1.53554738e+00\n",
            "  2.86000300e-01 -1.20098899e-02 -9.57342683e-01  9.41196642e-03\n",
            " -5.26703375e-01]\n"
          ],
          "name": "stdout"
        }
      ]
    },
    {
      "cell_type": "code",
      "metadata": {
        "id": "n5a_uvngNBdU",
        "outputId": "0e89b2c3-1a57-4e83-a728-3f2fd23ef013",
        "colab": {
          "base_uri": "https://localhost:8080/"
        }
      },
      "source": [
        "#TBD Predict for Test data\n",
        "Y_predict = model.predict(X_test)\n",
        "print(Y_predict)"
      ],
      "execution_count": 14,
      "outputs": [
        {
          "output_type": "stream",
          "text": [
            "[40.20530492 27.51362318 15.67522143 16.86884909 31.08213911 32.76882583\n",
            " 39.09283168  8.82466039 33.22474638  7.15792564 30.11246988 14.08346066\n",
            " 16.30536945 16.51386167 25.2743359  19.97857709  6.81246324 33.08490121\n",
            " 28.54069899 24.72212978 13.00999685 20.82768406 22.52808302 24.24156098\n",
            " 33.96827004 18.7024587  30.77145225 19.04446452 25.21793606 34.21543709\n",
            " 19.67471556 18.52520081 36.96201748 43.31834725 31.0933504  22.67324952\n",
            " 15.45429133 18.10174792  4.63307946 30.99203249 24.4731204  16.18207125\n",
            " 34.65544267 14.24703565 17.68255621 25.41500271 30.63257332 16.63584756\n",
            " 26.77928463 22.77059637 32.3004945 ]\n"
          ],
          "name": "stdout"
        }
      ]
    },
    {
      "cell_type": "code",
      "metadata": {
        "id": "Xi7vzWa-NBdW",
        "outputId": "02f51f65-5b69-4382-d4b7-39ac51212c64",
        "colab": {
          "base_uri": "https://localhost:8080/"
        }
      },
      "source": [
        "#TBD Mean squared error for your predictions\n",
        "from sklearn.metrics import mean_absolute_error, mean_squared_error\n",
        "mean_squared_error(Y_test, Y_predict)"
      ],
      "execution_count": 15,
      "outputs": [
        {
          "output_type": "execute_result",
          "data": {
            "text/plain": [
              "34.78342672703469"
            ]
          },
          "metadata": {
            "tags": []
          },
          "execution_count": 15
        }
      ]
    },
    {
      "cell_type": "markdown",
      "metadata": {
        "id": "xvkhTTz4NBdY"
      },
      "source": [
        "## Problems with linear model\n",
        "![title](https://github.com/rawata/pml/blob/master/img/anscombe_quartet.png?raw=1)\n",
        "\n",
        "### Ansombe Quartet \n",
        "### y = x/2 + 3"
      ]
    }
  ]
}