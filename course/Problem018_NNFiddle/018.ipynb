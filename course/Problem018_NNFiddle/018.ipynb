{
  "nbformat": 4,
  "nbformat_minor": 0,
  "metadata": {
    "kernelspec": {
      "display_name": "Python 3",
      "language": "python",
      "name": "python3"
    },
    "language_info": {
      "codemirror_mode": {
        "name": "ipython",
        "version": 3
      },
      "file_extension": ".py",
      "mimetype": "text/x-python",
      "name": "python",
      "nbconvert_exporter": "python",
      "pygments_lexer": "ipython3",
      "version": "3.6.5"
    },
    "colab": {
      "name": "Copia de 018.ipynb",
      "provenance": [],
      "include_colab_link": true
    }
  },
  "cells": [
    {
      "cell_type": "markdown",
      "metadata": {
        "id": "view-in-github",
        "colab_type": "text"
      },
      "source": [
        "<a href=\"https://colab.research.google.com/github/nbrena/pml/blob/master/course/Problem018_NNFiddle/018.ipynb\" target=\"_parent\"><img src=\"https://colab.research.google.com/assets/colab-badge.svg\" alt=\"Open In Colab\"/></a>"
      ]
    },
    {
      "cell_type": "markdown",
      "metadata": {
        "id": "vmpWVWFjvf-q"
      },
      "source": [
        "## Visit [AI Fiddle](https://editor.aifiddle.io/)"
      ]
    },
    {
      "cell_type": "markdown",
      "metadata": {
        "id": "ukNLoIzevf-q"
      },
      "source": [
        "## TBD Load MNIST dataset"
      ]
    },
    {
      "cell_type": "markdown",
      "metadata": {
        "id": "URKavLRgvf-r"
      },
      "source": [
        "## TBD Familiarise"
      ]
    },
    {
      "cell_type": "markdown",
      "metadata": {
        "id": "A0GJDKBfvf-r"
      },
      "source": [
        "## TBD Train a neural net of 3 hidden layers with 64, 64 and 10 neurons each\n"
      ]
    },
    {
      "cell_type": "markdown",
      "metadata": {
        "id": "lrQmaPRPvf-r"
      },
      "source": [
        "## TBD Achieve above 80% accuracy, Change your initial architecture if needed"
      ]
    },
    {
      "cell_type": "markdown",
      "metadata": {
        "id": "vhRUClsrvf-r"
      },
      "source": [
        "## TBD Validate your model with some data samples from the dataset"
      ]
    },
    {
      "cell_type": "code",
      "metadata": {
        "id": "T31lSP6Wvf-r"
      },
      "source": [
        ""
      ],
      "execution_count": null,
      "outputs": []
    }
  ]
}