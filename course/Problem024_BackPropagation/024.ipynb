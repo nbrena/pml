{
  "nbformat": 4,
  "nbformat_minor": 0,
  "metadata": {
    "kernelspec": {
      "display_name": "Python 3",
      "language": "python",
      "name": "python3"
    },
    "language_info": {
      "codemirror_mode": {
        "name": "ipython",
        "version": 3
      },
      "file_extension": ".py",
      "mimetype": "text/x-python",
      "name": "python",
      "nbconvert_exporter": "python",
      "pygments_lexer": "ipython3",
      "version": "3.6.5"
    },
    "colab": {
      "name": "Copia de 024.ipynb",
      "provenance": [],
      "include_colab_link": true
    }
  },
  "cells": [
    {
      "cell_type": "markdown",
      "metadata": {
        "id": "view-in-github",
        "colab_type": "text"
      },
      "source": [
        "<a href=\"https://colab.research.google.com/github/nbrena/pml/blob/master/course/Problem024_BackPropagation/024.ipynb\" target=\"_parent\"><img src=\"https://colab.research.google.com/assets/colab-badge.svg\" alt=\"Open In Colab\"/></a>"
      ]
    },
    {
      "cell_type": "markdown",
      "metadata": {
        "id": "l0B65VuVwh2N"
      },
      "source": [
        "## Backpropagation\n",
        "\n",
        "### TBD: What is being back propagated?\n",
        "     \n",
        "<img src=\"https://github.com/rawata/pml/blob/master/img/nn_backprop_simplest1.png?raw=1\" alt=\"drawing\" width=\"400\"/>\n",
        "\n",
        "### TBD: In the above setup \n",
        "     - How many functions are involved?\n",
        "     - How many weights are involved?\n",
        "     - With only one training sample x=3, y=2 and weights w1=0.5, w2=0.8 Whats y_hat?\n",
        "     - Whats the MSE Cost?\n"
      ]
    },
    {
      "cell_type": "markdown",
      "metadata": {
        "id": "O8k-y7Q3wh2N"
      },
      "source": [
        "\n",
        "\n",
        "Just expanded the above neural network to show weighted sum and activation components\n",
        "\n",
        "<img src=\"https://github.com/rawata/pml/blob/master/img/nn_backprop_simplest_expanded1.png?raw=1\" alt=\"drawing\" width=\"400\"/>\n",
        "\n",
        "### TBD To go backward, compute the following for previously given weights and training sample\n",
        "     \n",
        " $\\begin{align}\\frac{dJ}{d\\hat{y}}\\end{align}$\n",
        " $\\begin{align}\\frac{d\\hat{y}}{dz2}\\end{align}$\n",
        " $\\begin{align}\\frac{dz2}{dw2}\\end{align}$\n",
        " $\\begin{align}\\frac{dz2}{da1}\\end{align}$\n",
        " $\\begin{align}\\frac{da1}{dz1}\\end{align}$\n",
        " $\\begin{align}\\frac{dz1}{dw1}\\end{align}$\n"
      ]
    },
    {
      "cell_type": "markdown",
      "metadata": {
        "id": "m5vux9xjwh2N"
      },
      "source": [
        "## How cost changes with weights?\n",
        " \n",
        " Whole purpose of back propagation or this notebook is to compute \n",
        " _**how cost changes with weights**_ i.e\n",
        " \n",
        " $\\begin{align}\\frac{dJ}{d weights}\\end{align}$\n",
        " \n",
        " \n",
        "### TBD What are the values of:\n",
        " \n",
        "a) $\\begin{align}\\frac{dJ}{dw1}\\end{align}$\n",
        "  \n",
        "  \n",
        "b) $\\begin{align}\\frac{dJ}{dw2}\\end{align}$\n",
        "  \n",
        "_(Hint: Use Chain Rule & above results)_\n",
        " \n",
        " "
      ]
    },
    {
      "cell_type": "markdown",
      "metadata": {
        "id": "Kv0ASX3cwh2N"
      },
      "source": [
        "## Update Weights\n",
        "\n",
        "### TBD: In the above problem after you have computed \n",
        "$\\begin{align}\\frac{dJ}{dw1}\\end{align}$ and\n",
        "$\\begin{align}\\frac{dJ}{dw2}\\end{align}$\n",
        "\n",
        "what are new weights if the learning rate is 0.1\n"
      ]
    },
    {
      "cell_type": "markdown",
      "metadata": {
        "id": "m2yMk-6Xwh2N"
      },
      "source": [
        "## Forward Again\n",
        "\n",
        "### TBD: Plug in those new weights and check if the cost is reduced."
      ]
    },
    {
      "cell_type": "code",
      "metadata": {
        "id": "HaEqa-kpwh2N"
      },
      "source": [
        ""
      ],
      "execution_count": null,
      "outputs": []
    }
  ]
}