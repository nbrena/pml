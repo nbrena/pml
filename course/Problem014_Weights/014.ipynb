{
  "nbformat": 4,
  "nbformat_minor": 0,
  "metadata": {
    "kernelspec": {
      "name": "Python 3.8.2 64-bit ('pml')",
      "display_name": "Python 3.8.2 64-bit ('pml')",
      "metadata": {
        "interpreter": {
          "hash": "a4c9474aacc61cf72d0f1c29f4a339e5d6b2171c287541cfd684cf058783219b"
        }
      }
    },
    "language_info": {
      "codemirror_mode": {
        "name": "ipython",
        "version": 3
      },
      "file_extension": ".py",
      "mimetype": "text/x-python",
      "name": "python",
      "nbconvert_exporter": "python",
      "pygments_lexer": "ipython3",
      "version": "3.8.2-final"
    },
    "colab": {
      "name": "Copia de 014.ipynb",
      "provenance": [],
      "include_colab_link": true
    }
  },
  "cells": [
    {
      "cell_type": "markdown",
      "metadata": {
        "id": "view-in-github",
        "colab_type": "text"
      },
      "source": [
        "<a href=\"https://colab.research.google.com/github/nbrena/pml/blob/master/course/Problem014_Weights/014.ipynb\" target=\"_parent\"><img src=\"https://colab.research.google.com/assets/colab-badge.svg\" alt=\"Open In Colab\"/></a>"
      ]
    },
    {
      "cell_type": "markdown",
      "metadata": {
        "scrolled": true,
        "id": "WguEmjWTuTrh"
      },
      "source": [
        "## Weights or Coeffecients or Theta or Strength of Connection etc"
      ]
    },
    {
      "cell_type": "code",
      "metadata": {
        "id": "99jTS3PBuTrh"
      },
      "source": [
        "#TBD Load boston dataset\n",
        "#TBD Split into Train and Test dataset. random 90% 10%\n",
        "#TBD Fit linear model on Training data\n",
        "#TBD From the model get the weights\n"
      ],
      "execution_count": null,
      "outputs": []
    },
    {
      "cell_type": "markdown",
      "metadata": {
        "id": "Fq8TL0VjuTrh"
      },
      "source": [
        "## A special weight:  Bias or Intercept"
      ]
    },
    {
      "cell_type": "code",
      "metadata": {
        "id": "hcEnB4K5uTrh"
      },
      "source": [
        "# TBD: From above model get the Bias term"
      ],
      "execution_count": null,
      "outputs": []
    },
    {
      "cell_type": "code",
      "metadata": {
        "id": "l18DvAHwuTrh"
      },
      "source": [
        "# TBD: Using weights and bias to simulate above model predict for training data Y_hat1\n",
        "# TBD: Using model.predict predict for training data Y_hat2\n",
        "# TBD: Mean squared error for Y_hat1, Y_hat2 (They must be very close, nearly equal)\n"
      ],
      "execution_count": null,
      "outputs": []
    }
  ]
}