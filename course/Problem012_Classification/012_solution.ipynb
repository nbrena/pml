{
  "nbformat": 4,
  "nbformat_minor": 0,
  "metadata": {
    "kernelspec": {
      "name": "python3",
      "display_name": "Python 3.8.2 64-bit ('pml': venv)",
      "metadata": {
        "interpreter": {
          "hash": "a4c9474aacc61cf72d0f1c29f4a339e5d6b2171c287541cfd684cf058783219b"
        }
      }
    },
    "language_info": {
      "codemirror_mode": {
        "name": "ipython",
        "version": 3
      },
      "file_extension": ".py",
      "mimetype": "text/x-python",
      "name": "python",
      "nbconvert_exporter": "python",
      "pygments_lexer": "ipython3",
      "version": "3.8.2-final"
    },
    "colab": {
      "name": "Copia de 012_solution.ipynb",
      "provenance": [],
      "include_colab_link": true
    }
  },
  "cells": [
    {
      "cell_type": "markdown",
      "metadata": {
        "id": "view-in-github",
        "colab_type": "text"
      },
      "source": [
        "<a href=\"https://colab.research.google.com/github/nbrena/pml/blob/master/course/Problem012_Classification/012_solution.ipynb\" target=\"_parent\"><img src=\"https://colab.research.google.com/assets/colab-badge.svg\" alt=\"Open In Colab\"/></a>"
      ]
    },
    {
      "cell_type": "markdown",
      "metadata": {
        "scrolled": true,
        "id": "jqujmBoLtvdE"
      },
      "source": [
        "# Credit Approval Yes/No\n",
        "\n"
      ]
    },
    {
      "cell_type": "code",
      "metadata": {
        "id": "SQl3OK_-tvdE"
      },
      "source": [
        " from sklearn.datasets import fetch_openml\n",
        " #Load credit dataset\n",
        " data = fetch_openml(\"credit-g\")"
      ],
      "execution_count": null,
      "outputs": []
    },
    {
      "cell_type": "code",
      "metadata": {
        "id": "ljYVL5UItvdE",
        "outputId": "24e2da5c-1dac-4c75-cfb5-c19868f93e1e"
      },
      "source": [
        "#TBD Split into Train and Test dataset. random 75% 25%\n",
        "from sklearn.model_selection import train_test_split\n",
        "from sklearn.preprocessing import LabelEncoder\n",
        "\n",
        "#Solution\n",
        "\n",
        "X = data[\"data\"]\n",
        "Y_raw = data[\"target\"]\n",
        "\n",
        "#Labels are string, need to encode them to numbers\n",
        "print(f\"Raw labels. label0: {Y_raw[0]}, label1: {Y_raw[1]}\")\n",
        "label_encoder = LabelEncoder()\n",
        "\n",
        "Y = label_encoder.fit_transform(Y_raw)\n",
        "\n",
        "print(f\"Encoded labels. label0: {Y[0]}, label1: {Y[1]}\")\n",
        "\n",
        "X_train, X_test, Y_train, Y_test = train_test_split(X, Y, test_size=0.25, random_state=101)\n"
      ],
      "execution_count": null,
      "outputs": [
        {
          "output_type": "stream",
          "text": [
            "Raw labels. label0: good, label1: bad\n",
            "Encoded labels. label0: 1, label1: 0\n"
          ],
          "name": "stdout"
        }
      ]
    },
    {
      "cell_type": "code",
      "metadata": {
        "id": "KjACwzlYtvdF",
        "outputId": "f447dab1-fc70-4da8-9d4d-dd5200f42c8e"
      },
      "source": [
        "#TBD Fit logistic regression model on Training data\n",
        "from sklearn.linear_model.logistic import LogisticRegression\n",
        "\n",
        "#Solution\n",
        "model = LogisticRegression()\n",
        "model.fit(X_train, Y_train)\n"
      ],
      "execution_count": null,
      "outputs": [
        {
          "output_type": "execute_result",
          "data": {
            "text/plain": [
              "LogisticRegression()"
            ]
          },
          "metadata": {
            "tags": []
          },
          "execution_count": 31
        }
      ]
    },
    {
      "cell_type": "code",
      "metadata": {
        "id": "bmQnM8FYtvdF"
      },
      "source": [
        "#TBD Predict for Test data\n",
        "\n",
        "#Solution\n",
        "Y_hat = model.predict(X_test)\n"
      ],
      "execution_count": null,
      "outputs": []
    },
    {
      "cell_type": "code",
      "metadata": {
        "id": "3UWoI6vgtvdF"
      },
      "source": [
        "#TBD Categorical cross entropy error (log loss) for your predictions\n",
        "\n",
        "#Solution\n",
        "from sklearn.metrics import log_loss\n",
        "J = log_loss(Y_test, Y_hat)\n"
      ],
      "execution_count": null,
      "outputs": []
    },
    {
      "cell_type": "code",
      "metadata": {
        "id": "HyrvXaSjtvdF",
        "outputId": "89217ad3-06b3-4db9-95a9-14baf467d68b"
      },
      "source": [
        "#TBD Predict concrete class (instread of probablity score) for test data\n",
        "\n",
        "#Solution, Y_hat is actually the concrete class, because we used predict method,\n",
        "# If we have used model.predict_proba, then those would give probability score\n",
        "# However we still have encoded class names 1 or 0 instead of 'good' or 'bad'\n",
        "# We can inverse transform it\n",
        "\n",
        "Y_hat_raw = label_encoder.inverse_transform(Y_hat)\n",
        "print(f\"Prediction0: {Y_hat_raw[0]}\")\n"
      ],
      "execution_count": null,
      "outputs": [
        {
          "output_type": "stream",
          "text": [
            "Prediction0: good\n"
          ],
          "name": "stdout"
        }
      ]
    },
    {
      "cell_type": "code",
      "metadata": {
        "id": "fhme0UYctvdF",
        "outputId": "bf70175f-ebb2-4922-cb05-22fc02d67c47"
      },
      "source": [
        "#TBD Determine accuracy score for concrete predictions\n",
        "\n",
        "#Solution\n",
        "from sklearn.metrics import accuracy_score\n",
        "\n",
        "accuracy = accuracy_score(Y_test, Y_hat)\n",
        "print(f\"accuracy={accuracy*100}%\")\n"
      ],
      "execution_count": null,
      "outputs": [
        {
          "output_type": "stream",
          "text": [
            "accuracy=73.6%\n"
          ],
          "name": "stdout"
        }
      ]
    },
    {
      "cell_type": "code",
      "metadata": {
        "id": "waezfZ8ItvdG"
      },
      "source": [
        ""
      ],
      "execution_count": null,
      "outputs": []
    }
  ]
}